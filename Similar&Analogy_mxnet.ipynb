{
  "nbformat": 4,
  "nbformat_minor": 0,
  "metadata": {
    "colab": {
      "name": "Similar&Analogy.ipynb",
      "provenance": [],
      "collapsed_sections": []
    },
    "kernelspec": {
      "name": "python3",
      "display_name": "Python 3"
    },
    "language_info": {
      "name": "python"
    }
  },
  "cells": [
    {
      "cell_type": "code",
      "execution_count": null,
      "metadata": {
        "colab": {
          "base_uri": "https://localhost:8080/"
        },
        "id": "0DboNYZ7lm6z",
        "outputId": "f8543b28-3c6b-4317-b679-56052948653e"
      },
      "outputs": [
        {
          "output_type": "stream",
          "name": "stdout",
          "text": [
            "Looking in indexes: https://pypi.org/simple, https://us-python.pkg.dev/colab-wheels/public/simple/\n",
            "Collecting mxnet\n",
            "  Downloading mxnet-1.9.1-py3-none-manylinux2014_x86_64.whl (49.1 MB)\n",
            "\u001b[K     |████████████████████████████████| 49.1 MB 2.1 MB/s \n",
            "\u001b[?25hRequirement already satisfied: numpy<2.0.0,>1.16.0 in /usr/local/lib/python3.7/dist-packages (from mxnet) (1.21.6)\n",
            "Collecting graphviz<0.9.0,>=0.8.1\n",
            "  Downloading graphviz-0.8.4-py2.py3-none-any.whl (16 kB)\n",
            "Requirement already satisfied: requests<3,>=2.20.0 in /usr/local/lib/python3.7/dist-packages (from mxnet) (2.23.0)\n",
            "Requirement already satisfied: chardet<4,>=3.0.2 in /usr/local/lib/python3.7/dist-packages (from requests<3,>=2.20.0->mxnet) (3.0.4)\n",
            "Requirement already satisfied: idna<3,>=2.5 in /usr/local/lib/python3.7/dist-packages (from requests<3,>=2.20.0->mxnet) (2.10)\n",
            "Requirement already satisfied: certifi>=2017.4.17 in /usr/local/lib/python3.7/dist-packages (from requests<3,>=2.20.0->mxnet) (2022.5.18.1)\n",
            "Requirement already satisfied: urllib3!=1.25.0,!=1.25.1,<1.26,>=1.21.1 in /usr/local/lib/python3.7/dist-packages (from requests<3,>=2.20.0->mxnet) (1.24.3)\n",
            "Installing collected packages: graphviz, mxnet\n",
            "  Attempting uninstall: graphviz\n",
            "    Found existing installation: graphviz 0.10.1\n",
            "    Uninstalling graphviz-0.10.1:\n",
            "      Successfully uninstalled graphviz-0.10.1\n",
            "Successfully installed graphviz-0.8.4 mxnet-1.9.1\n"
          ]
        }
      ],
      "source": [
        "!pip install mxnet"
      ]
    },
    {
      "cell_type": "code",
      "source": [
        "from mxnet import nd\n",
        "from mxnet.contrib import text\n",
        "\n",
        "text.embedding.get_pretrained_file_names().keys()"
      ],
      "metadata": {
        "colab": {
          "base_uri": "https://localhost:8080/"
        },
        "id": "GUhQE61Wn9S-",
        "outputId": "054979ce-d57a-41dc-cfba-38c49caab4c1"
      },
      "execution_count": null,
      "outputs": [
        {
          "output_type": "execute_result",
          "data": {
            "text/plain": [
              "dict_keys(['glove', 'fasttext'])"
            ]
          },
          "metadata": {},
          "execution_count": 2
        }
      ]
    },
    {
      "cell_type": "code",
      "source": [
        "print(text.embedding.get_pretrained_file_names('glove'))"
      ],
      "metadata": {
        "colab": {
          "base_uri": "https://localhost:8080/"
        },
        "id": "3wPVeezfoA3N",
        "outputId": "f375e6b4-a851-48cd-bdb5-639213c8e8c3"
      },
      "execution_count": null,
      "outputs": [
        {
          "output_type": "stream",
          "name": "stdout",
          "text": [
            "['glove.42B.300d.txt', 'glove.6B.50d.txt', 'glove.6B.100d.txt', 'glove.6B.200d.txt', 'glove.6B.300d.txt', 'glove.840B.300d.txt', 'glove.twitter.27B.25d.txt', 'glove.twitter.27B.50d.txt', 'glove.twitter.27B.100d.txt', 'glove.twitter.27B.200d.txt']\n"
          ]
        }
      ]
    },
    {
      "cell_type": "markdown",
      "source": [
        "#Using word vectors MODEL - Glove-twitter-25"
      ],
      "metadata": {
        "id": "S5hDFVr_tc8O"
      }
    },
    {
      "cell_type": "code",
      "source": [
        "glove_27b25d = text.embedding.create('glove', pretrained_file_name='glove.twitter.27B.25d.txt')"
      ],
      "metadata": {
        "colab": {
          "base_uri": "https://localhost:8080/"
        },
        "id": "SOqWkIjloDih",
        "outputId": "d6671cb7-1340-4f16-ad0b-cbf3e45defdf"
      },
      "execution_count": null,
      "outputs": [
        {
          "output_type": "stream",
          "name": "stdout",
          "text": [
            "Downloading /root/.mxnet/embeddings/glove/glove.twitter.27B.zip from https://apache-mxnet.s3-accelerate.dualstack.amazonaws.com/gluon/embeddings/glove/glove.twitter.27B.zip...\n"
          ]
        }
      ]
    },
    {
      "cell_type": "code",
      "source": [
        "len(glove_27b25d)"
      ],
      "metadata": {
        "colab": {
          "base_uri": "https://localhost:8080/"
        },
        "id": "b3zaiKr1ohbx",
        "outputId": "0773c0e9-e001-4691-f650-6c802d764594"
      },
      "execution_count": null,
      "outputs": [
        {
          "output_type": "execute_result",
          "data": {
            "text/plain": [
              "1193515"
            ]
          },
          "metadata": {},
          "execution_count": 5
        }
      ]
    },
    {
      "cell_type": "markdown",
      "source": [
        "algorithm used to search for synonyms by cosine similarity"
      ],
      "metadata": {
        "id": "Na7VzePKpKS8"
      }
    },
    {
      "cell_type": "code",
      "source": [
        "def knn(W, x, k):\n",
        "    cos = nd.dot(W, x.reshape((-1,))) / (\n",
        "        (nd.sum(W * W, axis=1) + 1e-9).sqrt() * nd.sum(x * x).sqrt())\n",
        "    topk = nd.topk(cos, k=k, ret_typ='indices').asnumpy().astype('int32')\n",
        "    return topk, [cos[i].asscalar() for i in topk]"
      ],
      "metadata": {
        "id": "bSwZx1Myo3el"
      },
      "execution_count": null,
      "outputs": []
    },
    {
      "cell_type": "code",
      "source": [
        "def get_similar_tokens(query_token, k, embed):\n",
        "    topk, cos = knn(embed.idx_to_vec,\n",
        "                    embed.get_vecs_by_tokens([query_token]), k+1)\n",
        "    for i, c in zip(topk[1:], cos[1:]):  # Remove input words\n",
        "        print('cosine sim=%.3f: %s' % (c, (embed.idx_to_token[i])))"
      ],
      "metadata": {
        "id": "g2hOyFJbpOqA"
      },
      "execution_count": null,
      "outputs": []
    },
    {
      "cell_type": "code",
      "source": [
        "get_similar_tokens('cloud', 5, glove_27b25d)"
      ],
      "metadata": {
        "colab": {
          "base_uri": "https://localhost:8080/"
        },
        "id": "6W2c_o7ypQvq",
        "outputId": "e3444f15-27a0-4632-adeb-a5c296aa5c49"
      },
      "execution_count": null,
      "outputs": [
        {
          "output_type": "stream",
          "name": "stdout",
          "text": [
            "cosine sim=0.908: system\n",
            "cosine sim=0.901: technology\n",
            "cosine sim=0.891: production\n",
            "cosine sim=0.890: powered\n",
            "cosine sim=0.883: vision\n"
          ]
        }
      ]
    },
    {
      "cell_type": "code",
      "source": [
        "def get_analogy(token_a, token_b, token_c, embed):\n",
        "    vecs = embed.get_vecs_by_tokens([token_a, token_b, token_c])\n",
        "    x = vecs[1] - vecs[0] + vecs[2]\n",
        "    topk, cos = knn(embed.idx_to_vec, x, 1)\n",
        "    return embed.idx_to_token[topk[0]]"
      ],
      "metadata": {
        "id": "CSksHSP9pTEJ"
      },
      "execution_count": null,
      "outputs": []
    },
    {
      "cell_type": "code",
      "source": [
        "get_analogy('man', 'woman', 'son', glove_27b25d)"
      ],
      "metadata": {
        "colab": {
          "base_uri": "https://localhost:8080/",
          "height": 36
        },
        "id": "dfYkZKocqVmD",
        "outputId": "0a4838d6-727b-472a-cc13-6f3a225aff5f"
      },
      "execution_count": null,
      "outputs": [
        {
          "output_type": "execute_result",
          "data": {
            "text/plain": [
              "'son'"
            ],
            "application/vnd.google.colaboratory.intrinsic+json": {
              "type": "string"
            }
          },
          "metadata": {},
          "execution_count": 18
        }
      ]
    },
    {
      "cell_type": "code",
      "source": [
        "get_analogy('beijing', 'china', 'tokyo', glove_27b25d)"
      ],
      "metadata": {
        "colab": {
          "base_uri": "https://localhost:8080/",
          "height": 36
        },
        "id": "_5ce5OEgqaF4",
        "outputId": "ea7b3f76-d97e-4a81-f9ba-4d7d6635b922"
      },
      "execution_count": null,
      "outputs": [
        {
          "output_type": "execute_result",
          "data": {
            "text/plain": [
              "'china'"
            ],
            "application/vnd.google.colaboratory.intrinsic+json": {
              "type": "string"
            }
          },
          "metadata": {},
          "execution_count": 19
        }
      ]
    },
    {
      "cell_type": "code",
      "source": [
        "get_analogy('do', 'did', 'go', glove_27b25d)"
      ],
      "metadata": {
        "colab": {
          "base_uri": "https://localhost:8080/",
          "height": 36
        },
        "id": "DONk73GEqsgS",
        "outputId": "5249704e-a847-453f-9fdb-21c925a9f8ac"
      },
      "execution_count": null,
      "outputs": [
        {
          "output_type": "execute_result",
          "data": {
            "text/plain": [
              "'hope'"
            ],
            "application/vnd.google.colaboratory.intrinsic+json": {
              "type": "string"
            }
          },
          "metadata": {},
          "execution_count": 20
        }
      ]
    },
    {
      "cell_type": "markdown",
      "source": [
        "#Using word vectors MODEL - glove-wiki-gigaword-50\n",
        "\n",
        "**(Better than the previous one)**"
      ],
      "metadata": {
        "id": "EUBPkWk7yTvQ"
      }
    },
    {
      "cell_type": "code",
      "source": [
        "glove_6b50d = text.embedding.create('glove', pretrained_file_name='glove.6B.50d.txt')"
      ],
      "metadata": {
        "colab": {
          "base_uri": "https://localhost:8080/"
        },
        "id": "Ro772UK9t0to",
        "outputId": "7db4de96-5aa9-4ae2-8b7c-0564e1a77ec2"
      },
      "execution_count": null,
      "outputs": [
        {
          "output_type": "stream",
          "name": "stdout",
          "text": [
            "Downloading /root/.mxnet/embeddings/glove/glove.6B.zip from https://apache-mxnet.s3-accelerate.dualstack.amazonaws.com/gluon/embeddings/glove/glove.6B.zip...\n"
          ]
        }
      ]
    },
    {
      "cell_type": "code",
      "source": [
        "len(glove_6b50d)"
      ],
      "metadata": {
        "colab": {
          "base_uri": "https://localhost:8080/"
        },
        "id": "5y0qyVJpywQr",
        "outputId": "5559305f-c8da-48c1-bd93-240936ab0988"
      },
      "execution_count": null,
      "outputs": [
        {
          "output_type": "execute_result",
          "data": {
            "text/plain": [
              "400001"
            ]
          },
          "metadata": {},
          "execution_count": 22
        }
      ]
    },
    {
      "cell_type": "code",
      "source": [
        "def knn(W, x, k):\n",
        "    # The added 1e-9 is for numerical stability\n",
        "    cos = nd.dot(W, x.reshape((-1,))) / (\n",
        "        (nd.sum(W * W, axis=1) + 1e-9).sqrt() * nd.sum(x * x).sqrt())\n",
        "    topk = nd.topk(cos, k=k, ret_typ='indices').asnumpy().astype('int32')\n",
        "    return topk, [cos[i].asscalar() for i in topk]"
      ],
      "metadata": {
        "id": "3AKuh-I5yy5g"
      },
      "execution_count": null,
      "outputs": []
    },
    {
      "cell_type": "code",
      "source": [
        "def get_similar_tokens(query_token, k, embed):\n",
        "    topk, cos = knn(embed.idx_to_vec,\n",
        "                    embed.get_vecs_by_tokens([query_token]), k+1)\n",
        "    for i, c in zip(topk[1:], cos[1:]):  # Remove input words\n",
        "        print('cosine sim=%.3f: %s' % (c, (embed.idx_to_token[i])))"
      ],
      "metadata": {
        "id": "wUlLO4IAy978"
      },
      "execution_count": null,
      "outputs": []
    },
    {
      "cell_type": "code",
      "source": [
        "get_similar_tokens('chip', 3, glove_6b50d)"
      ],
      "metadata": {
        "colab": {
          "base_uri": "https://localhost:8080/"
        },
        "id": "nlmJbcmxzBOA",
        "outputId": "c18cfa3e-85ba-498d-817e-7fcf76f90c52"
      },
      "execution_count": null,
      "outputs": [
        {
          "output_type": "stream",
          "name": "stdout",
          "text": [
            "cosine sim=0.856: chips\n",
            "cosine sim=0.749: intel\n",
            "cosine sim=0.749: electronics\n"
          ]
        }
      ]
    },
    {
      "cell_type": "code",
      "source": [
        "get_similar_tokens('computer', 3, glove_6b50d)"
      ],
      "metadata": {
        "colab": {
          "base_uri": "https://localhost:8080/"
        },
        "id": "3Jso9uARzDRV",
        "outputId": "70174c71-65a4-4cb6-a4b2-3bbfb5840773"
      },
      "execution_count": null,
      "outputs": [
        {
          "output_type": "stream",
          "name": "stdout",
          "text": [
            "cosine sim=0.917: computers\n",
            "cosine sim=0.881: software\n",
            "cosine sim=0.853: technology\n"
          ]
        }
      ]
    },
    {
      "cell_type": "code",
      "source": [
        "def get_analogy(token_a, token_b, token_c, embed):\n",
        "    vecs = embed.get_vecs_by_tokens([token_a, token_b, token_c])\n",
        "    x = vecs[1] - vecs[0] + vecs[2]\n",
        "    topk, cos = knn(embed.idx_to_vec, x, 1)\n",
        "    return embed.idx_to_token[topk[0]] "
      ],
      "metadata": {
        "id": "X5ulAUsyzE47"
      },
      "execution_count": null,
      "outputs": []
    },
    {
      "cell_type": "code",
      "source": [
        "get_analogy('man', 'woman', 'son', glove_6b50d)"
      ],
      "metadata": {
        "colab": {
          "base_uri": "https://localhost:8080/",
          "height": 36
        },
        "id": "rfCpnhmTzJeT",
        "outputId": "f68fc29f-8867-48d7-97aa-2d76f5d23bd7"
      },
      "execution_count": null,
      "outputs": [
        {
          "output_type": "execute_result",
          "data": {
            "text/plain": [
              "'daughter'"
            ],
            "application/vnd.google.colaboratory.intrinsic+json": {
              "type": "string"
            }
          },
          "metadata": {},
          "execution_count": 28
        }
      ]
    },
    {
      "cell_type": "code",
      "source": [
        "get_analogy('beijing', 'china', 'tokyo', glove_6b50d)"
      ],
      "metadata": {
        "colab": {
          "base_uri": "https://localhost:8080/",
          "height": 36
        },
        "id": "Q40fxTTHzLRg",
        "outputId": "021b5fe2-6519-4f92-ede4-7add79c2cc97"
      },
      "execution_count": null,
      "outputs": [
        {
          "output_type": "execute_result",
          "data": {
            "text/plain": [
              "'japan'"
            ],
            "application/vnd.google.colaboratory.intrinsic+json": {
              "type": "string"
            }
          },
          "metadata": {},
          "execution_count": 29
        }
      ]
    },
    {
      "cell_type": "code",
      "source": [
        "get_analogy('bad', 'worst', 'big', glove_6b50d)"
      ],
      "metadata": {
        "colab": {
          "base_uri": "https://localhost:8080/",
          "height": 36
        },
        "id": "g4zR5-EEzNMK",
        "outputId": "a3a608ea-94c3-43a3-faea-490798805a01"
      },
      "execution_count": null,
      "outputs": [
        {
          "output_type": "execute_result",
          "data": {
            "text/plain": [
              "'biggest'"
            ],
            "application/vnd.google.colaboratory.intrinsic+json": {
              "type": "string"
            }
          },
          "metadata": {},
          "execution_count": 30
        }
      ]
    },
    {
      "cell_type": "markdown",
      "source": [
        "# Using Gensim API\n",
        "(directly loading model instead of vectors)"
      ],
      "metadata": {
        "id": "qQj2VkHs0_WT"
      }
    },
    {
      "cell_type": "code",
      "source": [
        "!pip install gensim"
      ],
      "metadata": {
        "colab": {
          "base_uri": "https://localhost:8080/"
        },
        "id": "HiPf_3ND1QOq",
        "outputId": "041509de-5381-4f13-e7d1-d2ae11acd504"
      },
      "execution_count": null,
      "outputs": [
        {
          "output_type": "stream",
          "name": "stdout",
          "text": [
            "Looking in indexes: https://pypi.org/simple, https://us-python.pkg.dev/colab-wheels/public/simple/\n",
            "Requirement already satisfied: gensim in /usr/local/lib/python3.7/dist-packages (3.6.0)\n",
            "Requirement already satisfied: six>=1.5.0 in /usr/local/lib/python3.7/dist-packages (from gensim) (1.15.0)\n",
            "Requirement already satisfied: scipy>=0.18.1 in /usr/local/lib/python3.7/dist-packages (from gensim) (1.4.1)\n",
            "Requirement already satisfied: numpy>=1.11.3 in /usr/local/lib/python3.7/dist-packages (from gensim) (1.21.6)\n",
            "Requirement already satisfied: smart-open>=1.2.1 in /usr/local/lib/python3.7/dist-packages (from gensim) (6.0.0)\n"
          ]
        }
      ]
    },
    {
      "cell_type": "code",
      "source": [
        "import gensim.downloader as api"
      ],
      "metadata": {
        "id": "oBekqRzL1UgZ"
      },
      "execution_count": null,
      "outputs": []
    },
    {
      "cell_type": "code",
      "source": [
        "model = api.load(\"glove-twitter-25\") #change model name here to use different models\n",
        "model.most_similar(\"glass\")"
      ],
      "metadata": {
        "colab": {
          "base_uri": "https://localhost:8080/"
        },
        "id": "alx3A1z9zekM",
        "outputId": "fe348c26-8e96-4b19-995c-a5870be5813a"
      },
      "execution_count": null,
      "outputs": [
        {
          "output_type": "stream",
          "name": "stdout",
          "text": [
            "[==================================================] 100.0% 104.8/104.8MB downloaded\n"
          ]
        },
        {
          "output_type": "execute_result",
          "data": {
            "text/plain": [
              "[('lamp', 0.9047179222106934),\n",
              " ('wood', 0.9034247398376465),\n",
              " ('oz', 0.8972457051277161),\n",
              " ('sand', 0.8971636891365051),\n",
              " ('paint', 0.8952186107635498),\n",
              " ('leaf', 0.8941252827644348),\n",
              " ('bottle', 0.8934361934661865),\n",
              " ('umbrella', 0.8917711973190308),\n",
              " ('steel', 0.8896211385726929),\n",
              " ('tree', 0.8895832300186157)]"
            ]
          },
          "metadata": {},
          "execution_count": 33
        }
      ]
    },
    {
      "cell_type": "code",
      "source": [
        "POSITIVE_LIST = ['woman', 'king']\n",
        "NEGATIVE_LIST = ['man']\n",
        "model.most_similar(positive=POSITIVE_LIST, negative=NEGATIVE_LIST)"
      ],
      "metadata": {
        "colab": {
          "base_uri": "https://localhost:8080/"
        },
        "id": "iGELx7DV1bUc",
        "outputId": "4d838e6a-cde2-41e8-da10-941111f8a164"
      },
      "execution_count": null,
      "outputs": [
        {
          "output_type": "execute_result",
          "data": {
            "text/plain": [
              "[('meets', 0.8841923475265503),\n",
              " ('prince', 0.832163393497467),\n",
              " ('queen', 0.8257461190223694),\n",
              " ('’s', 0.8174097537994385),\n",
              " ('crow', 0.8134994506835938),\n",
              " ('hunter', 0.8131038546562195),\n",
              " ('father', 0.811583399772644),\n",
              " ('soldier', 0.8111359477043152),\n",
              " ('mercy', 0.8082392811775208),\n",
              " ('hero', 0.8082262873649597)]"
            ]
          },
          "metadata": {},
          "execution_count": 34
        }
      ]
    },
    {
      "cell_type": "code",
      "source": [
        ""
      ],
      "metadata": {
        "id": "xwlaxboe2l7a"
      },
      "execution_count": null,
      "outputs": []
    }
  ]
}