{
 "cells": [
  {
   "cell_type": "code",
   "execution_count": 1,
   "id": "2f7a08cb",
   "metadata": {},
   "outputs": [],
   "source": [
    "import importlib.util\n",
    "import sys\n",
    "\n",
    "# function to check if the requiredd packages are installed or not\n",
    "def check_package(name):\n",
    "    if name in sys.modules:\n",
    "        print(f\"{name!r} already in sys.modules\")\n",
    "    elif (spec := importlib.util.find_spec(name)) is not None:\n",
    "        module = importlib.util.module_from_spec(spec)\n",
    "        sys.modules[name] = module\n",
    "        spec.loader.exec_module(module)\n",
    "        print(f\"{name!r} has been imported\")\n",
    "    else:\n",
    "        print(f\"\\nCan't find the {name!r} module\")\n",
    "        print(f\"Please install {name!r} module using pip\")\n",
    " \n",
    "    \n",
    "def similar_word(model,word,num=5):\n",
    "    word = word.lower()\n",
    "    return model.most_similar(word,topn=num)\n",
    "\n",
    "def get_analogy(model,word1,word2,word3):\n",
    "    word1 = word1.lower()\n",
    "    word2 = word2.lower()\n",
    "    word3 = word3.lower()\n",
    "    \n",
    "    Positive_list = [word1,word2]\n",
    "    Negative_list = [word3]\n",
    "    \n",
    "    return model.most_similar(positive=Positive_list, negative=Negative_list)"
   ]
  },
  {
   "cell_type": "code",
   "execution_count": 2,
   "id": "bc9796f8",
   "metadata": {},
   "outputs": [
    {
     "name": "stdout",
     "output_type": "stream",
     "text": [
      "'numpy' has been imported\n",
      "'scipy' has been imported\n",
      "'gensim' has been imported\n"
     ]
    }
   ],
   "source": [
    "package = ['numpy','scipy','gensim']\n",
    "\n",
    "for name in package:\n",
    "    check_package(name)"
   ]
  },
  {
   "cell_type": "code",
   "execution_count": 3,
   "id": "28c6986c",
   "metadata": {},
   "outputs": [
    {
     "name": "stdout",
     "output_type": "stream",
     "text": [
      "[==================================================] 100.0% 104.8/104.8MB downloaded\n"
     ]
    }
   ],
   "source": [
    "from gensim import downloader as api\n",
    "model = api.load(\"glove-twitter-25\") # specify the model name as per the requirements."
   ]
  },
  {
   "cell_type": "code",
   "execution_count": 8,
   "id": "c88566d8",
   "metadata": {},
   "outputs": [
    {
     "name": "stdout",
     "output_type": "stream",
     "text": [
      "Enter word to check similarity:King\n"
     ]
    },
    {
     "data": {
      "text/plain": [
       "[('prince', 0.9337409734725952),\n",
       " ('queen', 0.9202421307563782),\n",
       " ('aka', 0.9176921844482422),\n",
       " ('lady', 0.9163240790367126),\n",
       " ('jack', 0.9147354364395142)]"
      ]
     },
     "execution_count": 8,
     "metadata": {},
     "output_type": "execute_result"
    }
   ],
   "source": [
    "word = input (\"Enter word to check similarity:\")\n",
    "    \n",
    "similar_word(model,word)"
   ]
  },
  {
   "cell_type": "code",
   "execution_count": 9,
   "id": "e803b3af",
   "metadata": {},
   "outputs": [
    {
     "name": "stdout",
     "output_type": "stream",
     "text": [
      "Enter word to check similarity:Queen\n"
     ]
    },
    {
     "data": {
      "text/plain": [
       "[('princess', 0.9393543004989624),\n",
       " ('lady', 0.9336325526237488),\n",
       " ('prince', 0.926878035068512),\n",
       " ('king', 0.9202421307563782),\n",
       " ('aka', 0.8976845145225525)]"
      ]
     },
     "execution_count": 9,
     "metadata": {},
     "output_type": "execute_result"
    }
   ],
   "source": [
    "word = input (\"Enter word to check similarity:\")\n",
    "    \n",
    "similar_word(model,word)"
   ]
  },
  {
   "cell_type": "code",
   "execution_count": 10,
   "id": "cb7dcd8a",
   "metadata": {},
   "outputs": [
    {
     "name": "stdout",
     "output_type": "stream",
     "text": [
      "Enter word to check similarity:Man\n"
     ]
    },
    {
     "data": {
      "text/plain": [
       "[('was', 0.9065622091293335),\n",
       " ('i', 0.8880172371864319),\n",
       " ('he', 0.887438178062439),\n",
       " ('bad', 0.8846145272254944),\n",
       " ('even', 0.8832389712333679)]"
      ]
     },
     "execution_count": 10,
     "metadata": {},
     "output_type": "execute_result"
    }
   ],
   "source": [
    "word = input (\"Enter word to check similarity:\")\n",
    "    \n",
    "similar_word(model,word)"
   ]
  },
  {
   "cell_type": "code",
   "execution_count": 11,
   "id": "f813ec86",
   "metadata": {},
   "outputs": [
    {
     "name": "stdout",
     "output_type": "stream",
     "text": [
      "Enter word to check similarity:Woman\n"
     ]
    },
    {
     "data": {
      "text/plain": [
       "[('child', 0.9371739625930786),\n",
       " ('mother', 0.9214696884155273),\n",
       " ('whose', 0.9174973368644714),\n",
       " ('called', 0.9146499633789062),\n",
       " ('person', 0.9135538339614868)]"
      ]
     },
     "execution_count": 11,
     "metadata": {},
     "output_type": "execute_result"
    }
   ],
   "source": [
    "word = input (\"Enter word to check similarity:\")\n",
    "    \n",
    "similar_word(model,word)"
   ]
  },
  {
   "cell_type": "code",
   "execution_count": 12,
   "id": "fa9663bd",
   "metadata": {},
   "outputs": [
    {
     "name": "stdout",
     "output_type": "stream",
     "text": [
      "Enter word to check similarity:Computer\n"
     ]
    },
    {
     "data": {
      "text/plain": [
       "[('camera', 0.907833456993103),\n",
       " ('cell', 0.891890287399292),\n",
       " ('server', 0.874466598033905),\n",
       " ('device', 0.8693525195121765),\n",
       " ('wifi', 0.863125741481781)]"
      ]
     },
     "execution_count": 12,
     "metadata": {},
     "output_type": "execute_result"
    }
   ],
   "source": [
    "word = input (\"Enter word to check similarity:\")\n",
    "    \n",
    "similar_word(model,word)"
   ]
  },
  {
   "cell_type": "code",
   "execution_count": 13,
   "id": "4458f3af",
   "metadata": {},
   "outputs": [
    {
     "name": "stdout",
     "output_type": "stream",
     "text": [
      "Enter the analogy:man woman king\n"
     ]
    },
    {
     "data": {
      "text/plain": [
       "[('problem', 0.8973278999328613),\n",
       " ('person', 0.8841602802276611),\n",
       " ('being', 0.8623393774032593),\n",
       " ('not', 0.843335747718811),\n",
       " ('clearly', 0.8383913040161133),\n",
       " ('ashamed', 0.8377737402915955),\n",
       " ('confused', 0.8356227874755859),\n",
       " ('act', 0.8349685072898865),\n",
       " ('considered', 0.8339008092880249),\n",
       " ('treated', 0.8337947726249695)]"
      ]
     },
     "execution_count": 13,
     "metadata": {},
     "output_type": "execute_result"
    }
   ],
   "source": [
    "#enter data in sequential manner with separated by space , no need to add colon\n",
    "word1,word2,word3 = input(\"Enter the analogy:\").split() \n",
    "\n",
    "get_analogy(model,word1,word2,word3)"
   ]
  },
  {
   "cell_type": "code",
   "execution_count": 6,
   "id": "496263c7",
   "metadata": {},
   "outputs": [
    {
     "name": "stdout",
     "output_type": "stream",
     "text": [
      "Enter the analogy:us hamburger canada\n"
     ]
    },
    {
     "data": {
      "text/plain": [
       "[('chips', 0.8549197316169739),\n",
       " ('slice', 0.8479117155075073),\n",
       " ('nut', 0.8475787043571472),\n",
       " ('beef', 0.8438161015510559),\n",
       " ('bread', 0.8429924845695496),\n",
       " ('egg', 0.8374770283699036),\n",
       " ('noodles', 0.8304758071899414),\n",
       " ('gum', 0.8286800980567932),\n",
       " ('pot', 0.8253323435783386),\n",
       " ('fry', 0.8232471942901611)]"
      ]
     },
     "execution_count": 6,
     "metadata": {},
     "output_type": "execute_result"
    }
   ],
   "source": [
    "#enter data in sequential manner with separated by space , no need to add colon\n",
    "word1,word2,word3 = input(\"Enter the analogy:\").split() \n",
    "\n",
    "get_analogy(model,word1,word2,word3)"
   ]
  },
  {
   "cell_type": "code",
   "execution_count": 14,
   "id": "40700b26",
   "metadata": {},
   "outputs": [
    {
     "name": "stdout",
     "output_type": "stream",
     "text": [
      "Enter the analogy:germany schnitzel australia\n"
     ]
    },
    {
     "data": {
      "text/plain": [
       "[('bratwurst', 0.8289229869842529),\n",
       " ('dinger', 0.8197717666625977),\n",
       " ('fitty', 0.8099913597106934),\n",
       " ('ladle', 0.8089525103569031),\n",
       " ('frech', 0.7988219261169434),\n",
       " ('liege', 0.7951248288154602),\n",
       " ('schokolade', 0.7896562218666077),\n",
       " ('stroh', 0.7886779308319092),\n",
       " ('currywurst', 0.7883197069168091),\n",
       " ('kraft', 0.7867147922515869)]"
      ]
     },
     "execution_count": 14,
     "metadata": {},
     "output_type": "execute_result"
    }
   ],
   "source": [
    "#enter data in sequential manner with separated by space , no need to add colon\n",
    "word1,word2,word3 = input(\"Enter the analogy:\").split() \n",
    "\n",
    "get_analogy(model,word1,word2,word3)"
   ]
  },
  {
   "cell_type": "code",
   "execution_count": 15,
   "id": "964a9e2a",
   "metadata": {},
   "outputs": [
    {
     "name": "stdout",
     "output_type": "stream",
     "text": [
      "Enter the analogy:india dosa spain\n"
     ]
    },
    {
     "data": {
      "text/plain": [
       "[('fitnah', 0.8259400129318237),\n",
       " ('manusia', 0.7998408675193787),\n",
       " ('syaitan', 0.7836814522743225),\n",
       " ('nafsu', 0.7801619172096252),\n",
       " ('sedekah', 0.7711601257324219),\n",
       " ('syirik', 0.7704491019248962),\n",
       " ('perbuatan', 0.768220841884613),\n",
       " ('mulut', 0.7652733325958252),\n",
       " ('kecuali', 0.7643278241157532),\n",
       " ('ilah', 0.7626744508743286)]"
      ]
     },
     "execution_count": 15,
     "metadata": {},
     "output_type": "execute_result"
    }
   ],
   "source": [
    "#enter data in sequential manner with separated by space , no need to add colon\n",
    "word1,word2,word3 = input(\"Enter the analogy:\").split() \n",
    "\n",
    "get_analogy(model,word1,word2,word3)"
   ]
  },
  {
   "cell_type": "code",
   "execution_count": 16,
   "id": "88cccb05",
   "metadata": {},
   "outputs": [
    {
     "name": "stdout",
     "output_type": "stream",
     "text": [
      "Enter the analogy:india hindu pakistan\n"
     ]
    },
    {
     "data": {
      "text/plain": [
       "[('modern', 0.8049941062927246),\n",
       " ('christian', 0.7989800572395325),\n",
       " ('british', 0.7939679026603699),\n",
       " ('urban', 0.7914790511131287),\n",
       " ('indian', 0.7902387976646423),\n",
       " ('muslim', 0.7853228449821472),\n",
       " ('heritage', 0.785024881362915),\n",
       " ('swedish', 0.7810575366020203),\n",
       " ('native', 0.7793307900428772),\n",
       " ('danish', 0.778034508228302)]"
      ]
     },
     "execution_count": 16,
     "metadata": {},
     "output_type": "execute_result"
    }
   ],
   "source": [
    "#enter data in sequential manner with separated by space , no need to add colon\n",
    "word1,word2,word3 = input(\"Enter the analogy:\").split() \n",
    "\n",
    "get_analogy(model,word1,word2,word3)"
   ]
  },
  {
   "cell_type": "code",
   "execution_count": null,
   "id": "fb2f0cf6",
   "metadata": {},
   "outputs": [],
   "source": []
  }
 ],
 "metadata": {
  "kernelspec": {
   "display_name": "Python 3 (ipykernel)",
   "language": "python",
   "name": "python3"
  },
  "language_info": {
   "codemirror_mode": {
    "name": "ipython",
    "version": 3
   },
   "file_extension": ".py",
   "mimetype": "text/x-python",
   "name": "python",
   "nbconvert_exporter": "python",
   "pygments_lexer": "ipython3",
   "version": "3.9.12"
  }
 },
 "nbformat": 4,
 "nbformat_minor": 5
}
